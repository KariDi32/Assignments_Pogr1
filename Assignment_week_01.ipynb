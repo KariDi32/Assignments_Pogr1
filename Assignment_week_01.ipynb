{
 "cells": [
  {
   "cell_type": "markdown",
   "metadata": {},
   "source": [
    "# Week 01 Assignment epileptic seizure\n",
    "\n",
    "As a Data Scientist you often have lots of data at our disposal. Unfortunately, data from real-life cases is often not nicely structured. We need to manipulate the unstructured and/or messy data into a structured or clean form. We need to drop rows and columns because they are not needed for the analysis or because we cannot use them in case of too many missing values. Maybe we need to relabel columns or reformat characters into numerical values. Or we need to combine data from several sources. Cleaning and manipulating data into a structured form is called data preparation. In this week we will practice the cleaning and manipulation of EEG data in order to conduct graphical and statistical analysis. We will use tools often used by data scientists; `python`, `numpy`, `pandas` and `bokeh`. You will learn about data wrangling with `pandas` and `numpy` and you will learn to visualize with `bokeh`. Concretely, you will preprocess the brain EEG data in an appropiate format in order to conduct statistical and visual analysis. \n",
    "\n",
    "Keywords: data loading, data inspection, data exploration, reshape data, data cleaning, timeseries, pandas, visualization, statistics, tidy table\n",
    "\n",
    "More to read: \n",
    "\n",
    "- Andrzejak RG, Lehnertz K, Rieke C, Mormann F, David P, Elger CE (2001) Indications of nonlinear deterministic and finite dimensional structures in time series of brain electrical activity: Dependence on recording region and brain state, Phys. Rev. E, 64, 061907\n",
    "\n",
    "More about pandas and git:\n",
    "\n",
    "- https://fennaf.gitbook.io/bfvm22prog1/\n",
    "- https://opensourceuom.gitlab.io/blog/post_files/2022-02-23/git-essentials-cheatsheet.pdf\n",
    "- https://nbviewer.org/github/ageron/handson-ml/blob/master/tools_pandas.ipynb\n",
    "- https://github.com/fenna/BFVM22PROG1/blob/main/exercises/quiz_pandas.ipynb\n",
    "\n",
    "\n",
    "Learning objectives\n",
    "\n",
    "- Understand the concepts and benefits of vectorized manipulation \n",
    "- Understand the concepts of the visualization tool bokeh \n",
    "- Read, inspect, clean, and reshape a file into a tabular tidy format\n",
    "- Perform visual and statistical analysis for time series data\n",
    "- Maintain development environment \n",
    "- Apply coding standards and FAIR principles\n",
    "\n",
    "By the end of this week the student can:\n",
    "\n",
    "- load a tabular dataset and and rename the column names\n",
    "- split a text column into two columns in Pandas DataFrame\n",
    "- inspect the dataset for quality and metadata information\n",
    "- reshape the dataset into a format suitable for visual and statistical analysis\n",
    "- perform visual analysis\n",
    "- perform statistical analysis\n",
    "\n",
    "Please add your own topics you want to learn here: https://padlet.com/ffeenstra1/y97afib6ovx96lr9\n",
    "\n",
    "A final plot will look like this:\n",
    "\n",
    "<img src=\"../images/brain.png\" alt=\"drawing\" width=\"400\"/>\n",
    "\n",
    "The assignment consists of 6 parts:\n",
    "\n",
    "- [part 1: load the data](#0)\n",
    "     - [Exercise 1.1](#ex-11)\n",
    "- [part 2: prepare for inspection](#1)\n",
    "     - [Exercise 2.1](#ex-21)\n",
    "- [part 3: inspect the data](#2)\n",
    "     - [Exercise 3.1](#ex-31)\n",
    "- [part 4: reshape the data](#3)\n",
    "     - [Exercise 4.1](#ex-41)\n",
    "     - [Exercise 4.3](#ex-43)\n",
    "- [part 5: visualize the data](#4)\n",
    "     - [Exercise 5.1](#ex-51)\n",
    "- [part 6: statistical analysis](#5)\n",
    "     - [Exercise 6.1](#ex-61)\n",
    "\n",
    "\n",
    "Part 1 and 5 are mandatory, part 6 is optional (bonus)\n",
    "Mind you that you cannot copy code without referencing the code. If you copy code you need to be able to explain your code verbally and you will not get the full score. \n",
    "\n",
    "\n",
    "\n",
    "\n",
    "\n",
    "\n",
    "\n",
    "\n",
    "\n",
    "\n"
   ]
  },
  {
   "cell_type": "markdown",
   "metadata": {},
   "source": [
    "## The Data\n",
    "You will use a dataset called `eeg_data.csv`. This is a preprocessed dataset. The original dataset from the reference consists of 5 different folders, each with 100 files, with each file representing a single subject/person. Each file is a recording of brain activity for around 23 seconds. Each data point is the value of the EEG recording at a different point in time. There are in total 500 patients with each has 4097 datapoints.\n",
    "\n",
    "The originial data was shuffled into 23 chunks per patient, each chunk contains 178 data points. \n",
    "The first column is an identifier with the chunk number (X1 ..X23) and the Patient number (for example V1.791)\n",
    "The EEG recordings are X1, X2, ..., X178. The last column represents the label y {1,2,3,4,5}\n",
    "\n",
    "5 - eyes open, means when they were recording the EEG signal of the brain the patient had their eyes open\n",
    "\n",
    "4 - eyes closed, means when they were recording the EEG signal the patient had their eyes closed\n",
    "\n",
    "3 - Yes they identify where the region of the tumor was in the brain and recording the EEG activity from the healthy brain area\n",
    "\n",
    "2 - They recorder the EEG from the area where the tumor was located\n",
    "\n",
    "1 - Recording of seizure activity\n",
    "\n",
    "All subjects falling in classes 2, 3, 4, and 5 are subjects who did not have epileptic seizure. Only subjects in class 1 have epileptic seizure. \n",
    "\n",
    "Source: Andrzejak RG, Lehnertz K, Rieke C, Mormann F, David P, Elger CE (2001) Indications of nonlinear deterministic and finite dimensional structures in time series of brain electrical activity: Dependence on recording region and brain state, Phys. Rev. E, 64, 061907\n",
    "\n",
    "\n",
    "Preferably we read the data not with a hard coded data path but using a config file. See https://fennaf.gitbook.io/bfvm22prog1/data-processing/configuration-files/yaml\n"
   ]
  },
  {
   "cell_type": "markdown",
   "metadata": {},
   "source": [
    "Run the cell below to load in the packages."
   ]
  },
  {
   "cell_type": "code",
   "execution_count": 74,
   "metadata": {},
   "outputs": [],
   "source": [
    "import pandas as pd\n",
    "import numpy as np\n",
    "import yaml\n",
    "from bokeh.plotting import figure\n",
    "from bokeh.io import show, output_notebook\n",
    "\n",
    "def get_config():\n",
    "    with open(\"config.yaml\", 'r') as stream:\n",
    "        config = yaml.safe_load(stream)\n",
    "    return config\n",
    "\n",
    "config = get_config()\n",
    "file = (config['filepath'])\n"
   ]
  },
  {
   "cell_type": "markdown",
   "metadata": {},
   "source": [
    "<a name='0'></a>\n",
    "## Part 1: Load the data\n",
    "\n",
    "Instructions: Load the data and rename the unnamed column containing the identifier with the chunck number and the patientID into the column `ID`\n",
    "\n",
    "<details>    \n",
    "<summary>\n",
    "    <font size=\"3\" color=\"darkgreen\"><b>Hints</b></font>\n",
    "</summary>\n",
    "<ul><li>pandas.read_csv() method can be used to read a csv file</li>\n",
    "    <li>pandas.DataFrame.head() method is often used to inspect the dataframe</li>\n",
    "    <li>pandas.DataFrame.rename() method can be used to rename columns</li>\n",
    "</ul>\n",
    "</details>"
   ]
  },
  {
   "cell_type": "markdown",
   "metadata": {},
   "source": [
    "<a name='ex-11'></a>\n",
    "### 1.1 Code your solution"
   ]
  },
  {
   "cell_type": "code",
   "execution_count": 75,
   "metadata": {},
   "outputs": [
    {
     "data": {
      "text/html": [
       "<div>\n",
       "<style scoped>\n",
       "    .dataframe tbody tr th:only-of-type {\n",
       "        vertical-align: middle;\n",
       "    }\n",
       "\n",
       "    .dataframe tbody tr th {\n",
       "        vertical-align: top;\n",
       "    }\n",
       "\n",
       "    .dataframe thead th {\n",
       "        text-align: right;\n",
       "    }\n",
       "</style>\n",
       "<table border=\"1\" class=\"dataframe\">\n",
       "  <thead>\n",
       "    <tr style=\"text-align: right;\">\n",
       "      <th></th>\n",
       "      <th>ID</th>\n",
       "      <th>X1</th>\n",
       "      <th>X2</th>\n",
       "      <th>X3</th>\n",
       "      <th>X4</th>\n",
       "      <th>X5</th>\n",
       "      <th>X6</th>\n",
       "      <th>X7</th>\n",
       "      <th>X8</th>\n",
       "      <th>X9</th>\n",
       "      <th>...</th>\n",
       "      <th>X170</th>\n",
       "      <th>X171</th>\n",
       "      <th>X172</th>\n",
       "      <th>X173</th>\n",
       "      <th>X174</th>\n",
       "      <th>X175</th>\n",
       "      <th>X176</th>\n",
       "      <th>X177</th>\n",
       "      <th>X178</th>\n",
       "      <th>y</th>\n",
       "    </tr>\n",
       "  </thead>\n",
       "  <tbody>\n",
       "    <tr>\n",
       "      <th>0</th>\n",
       "      <td>X21.V1.791</td>\n",
       "      <td>135</td>\n",
       "      <td>190</td>\n",
       "      <td>229</td>\n",
       "      <td>223</td>\n",
       "      <td>192</td>\n",
       "      <td>125</td>\n",
       "      <td>55</td>\n",
       "      <td>-9</td>\n",
       "      <td>-33</td>\n",
       "      <td>...</td>\n",
       "      <td>-17</td>\n",
       "      <td>-15</td>\n",
       "      <td>-31</td>\n",
       "      <td>-77</td>\n",
       "      <td>-103</td>\n",
       "      <td>-127</td>\n",
       "      <td>-116</td>\n",
       "      <td>-83</td>\n",
       "      <td>-51</td>\n",
       "      <td>4</td>\n",
       "    </tr>\n",
       "    <tr>\n",
       "      <th>1</th>\n",
       "      <td>X15.V1.924</td>\n",
       "      <td>386</td>\n",
       "      <td>382</td>\n",
       "      <td>356</td>\n",
       "      <td>331</td>\n",
       "      <td>320</td>\n",
       "      <td>315</td>\n",
       "      <td>307</td>\n",
       "      <td>272</td>\n",
       "      <td>244</td>\n",
       "      <td>...</td>\n",
       "      <td>164</td>\n",
       "      <td>150</td>\n",
       "      <td>146</td>\n",
       "      <td>152</td>\n",
       "      <td>157</td>\n",
       "      <td>156</td>\n",
       "      <td>154</td>\n",
       "      <td>143</td>\n",
       "      <td>129</td>\n",
       "      <td>1</td>\n",
       "    </tr>\n",
       "    <tr>\n",
       "      <th>2</th>\n",
       "      <td>X8.V1.1</td>\n",
       "      <td>-32</td>\n",
       "      <td>-39</td>\n",
       "      <td>-47</td>\n",
       "      <td>-37</td>\n",
       "      <td>-32</td>\n",
       "      <td>-36</td>\n",
       "      <td>-57</td>\n",
       "      <td>-73</td>\n",
       "      <td>-85</td>\n",
       "      <td>...</td>\n",
       "      <td>57</td>\n",
       "      <td>64</td>\n",
       "      <td>48</td>\n",
       "      <td>19</td>\n",
       "      <td>-12</td>\n",
       "      <td>-30</td>\n",
       "      <td>-35</td>\n",
       "      <td>-35</td>\n",
       "      <td>-36</td>\n",
       "      <td>5</td>\n",
       "    </tr>\n",
       "    <tr>\n",
       "      <th>3</th>\n",
       "      <td>X16.V1.60</td>\n",
       "      <td>-105</td>\n",
       "      <td>-101</td>\n",
       "      <td>-96</td>\n",
       "      <td>-92</td>\n",
       "      <td>-89</td>\n",
       "      <td>-95</td>\n",
       "      <td>-102</td>\n",
       "      <td>-100</td>\n",
       "      <td>-87</td>\n",
       "      <td>...</td>\n",
       "      <td>-82</td>\n",
       "      <td>-81</td>\n",
       "      <td>-80</td>\n",
       "      <td>-77</td>\n",
       "      <td>-85</td>\n",
       "      <td>-77</td>\n",
       "      <td>-72</td>\n",
       "      <td>-69</td>\n",
       "      <td>-65</td>\n",
       "      <td>5</td>\n",
       "    </tr>\n",
       "    <tr>\n",
       "      <th>4</th>\n",
       "      <td>X20.V1.54</td>\n",
       "      <td>-9</td>\n",
       "      <td>-65</td>\n",
       "      <td>-98</td>\n",
       "      <td>-102</td>\n",
       "      <td>-78</td>\n",
       "      <td>-48</td>\n",
       "      <td>-16</td>\n",
       "      <td>0</td>\n",
       "      <td>-21</td>\n",
       "      <td>...</td>\n",
       "      <td>4</td>\n",
       "      <td>2</td>\n",
       "      <td>-12</td>\n",
       "      <td>-32</td>\n",
       "      <td>-41</td>\n",
       "      <td>-65</td>\n",
       "      <td>-83</td>\n",
       "      <td>-89</td>\n",
       "      <td>-73</td>\n",
       "      <td>5</td>\n",
       "    </tr>\n",
       "  </tbody>\n",
       "</table>\n",
       "<p>5 rows × 180 columns</p>\n",
       "</div>"
      ],
      "text/plain": [
       "           ID   X1   X2   X3   X4   X5   X6   X7   X8   X9  ...  X170  X171  \\\n",
       "0  X21.V1.791  135  190  229  223  192  125   55   -9  -33  ...   -17   -15   \n",
       "1  X15.V1.924  386  382  356  331  320  315  307  272  244  ...   164   150   \n",
       "2     X8.V1.1  -32  -39  -47  -37  -32  -36  -57  -73  -85  ...    57    64   \n",
       "3   X16.V1.60 -105 -101  -96  -92  -89  -95 -102 -100  -87  ...   -82   -81   \n",
       "4   X20.V1.54   -9  -65  -98 -102  -78  -48  -16    0  -21  ...     4     2   \n",
       "\n",
       "   X172  X173  X174  X175  X176  X177  X178  y  \n",
       "0   -31   -77  -103  -127  -116   -83   -51  4  \n",
       "1   146   152   157   156   154   143   129  1  \n",
       "2    48    19   -12   -30   -35   -35   -36  5  \n",
       "3   -80   -77   -85   -77   -72   -69   -65  5  \n",
       "4   -12   -32   -41   -65   -83   -89   -73  5  \n",
       "\n",
       "[5 rows x 180 columns]"
      ]
     },
     "execution_count": 75,
     "metadata": {},
     "output_type": "execute_result"
    }
   ],
   "source": [
    "df = pd.read_csv(file)\n",
    "df = df.rename(columns={'Unnamed: 0':'ID'})\n",
    "df.head()\n"
   ]
  },
  {
   "cell_type": "markdown",
   "metadata": {},
   "source": [
    "---"
   ]
  },
  {
   "cell_type": "markdown",
   "metadata": {},
   "source": [
    "### 1.2 Test your solution"
   ]
  },
  {
   "cell_type": "code",
   "execution_count": 76,
   "metadata": {},
   "outputs": [
    {
     "name": "stdout",
     "output_type": "stream",
     "text": [
      "<class 'pandas.core.frame.DataFrame'>\n",
      "RangeIndex: 11500 entries, 0 to 11499\n",
      "Columns: 180 entries, ID to y\n",
      "dtypes: int64(179), object(1)\n",
      "memory usage: 15.8+ MB\n"
     ]
    }
   ],
   "source": [
    "#do not modify this cell, run cell to test your code\n",
    "try:\n",
    "    df.info()\n",
    "except:\n",
    "    print(\"df not properly loaded\")"
   ]
  },
  {
   "cell_type": "markdown",
   "metadata": {},
   "source": [
    "#### Expected outcome: "
   ]
  },
  {
   "cell_type": "raw",
   "metadata": {},
   "source": [
    "    <class 'pandas.core.frame.DataFrame'>\n",
    "    RangeIndex: 11500 entries, 0 to 11499\n",
    "    Columns: 180 entries, ID to y\n",
    "    dtypes: int64(179), object(1)\n",
    "    memory usage: 15.8+ MB"
   ]
  },
  {
   "cell_type": "markdown",
   "metadata": {},
   "source": [
    "The dataset should have 11500 entries (500patients x 23 rows per patient) and 180 columns (178 recordings, an identifier and the class variable y)"
   ]
  },
  {
   "cell_type": "markdown",
   "metadata": {},
   "source": [
    "---"
   ]
  },
  {
   "cell_type": "markdown",
   "metadata": {},
   "source": [
    "<a name='1'></a>\n",
    "## Part 2: Prepare for inspection \n",
    "\n",
    "Although the number of records suggest that there should be 500 patients with 23 record each we would like to check this. Furthermore we do not know whether the y label is the same for each patient. We also do not know whether there are missing values. In order to answer the questions above it is more convient to split up the identifier containing a combination of chunck number and patient ID into two separate columns. After that we can do some inspections.\n",
    "\n",
    "Instructions: \n",
    "\n",
    "- change the `ID` column into two separate columns `idx` and `patient_id`\n",
    "- change the column `idx` into a number (you need to stripe the X first)\n",
    "- remove the `ID` column from the DataFrame\n",
    "\n",
    "\n",
    "<details>    \n",
    "<summary>\n",
    "    <font size=\"3\" color=\"darkgreen\"><b>Hints</b></font>\n",
    "</summary>\n",
    "<ul><li>pandas.DataFrame.str.split() method can be used to split</li>\n",
    "    <li>pandas.DataFrame.astype(int) method can be used to typecast to a number</li>\n",
    "    <li>pandas.DataFrame.drop() method can be used to drop a column</li>\n",
    "</ul>\n",
    "</details>\n",
    "\n",
    "<a name='ex-21'></a>\n",
    "### 2.1 Code your solution"
   ]
  },
  {
   "cell_type": "code",
   "execution_count": 77,
   "metadata": {},
   "outputs": [
    {
     "name": "stdout",
     "output_type": "stream",
     "text": [
      "int64\n",
      "idx            int64\n",
      "patient_id    object\n",
      "X1             int64\n",
      "X2             int64\n",
      "X3             int64\n",
      "               ...  \n",
      "X175           int64\n",
      "X176           int64\n",
      "X177           int64\n",
      "X178           int64\n",
      "y              int64\n",
      "Length: 181, dtype: object\n"
     ]
    }
   ],
   "source": [
    "# YOUR CODE HERE\n",
    "\n",
    "idx = df.ID.str.split('.', n=1, expand=True)[0]\n",
    "idx = idx.str.strip('X').astype(int)\n",
    "patient_id = df.ID.str.split('.', n=1, expand=True)[1]\n",
    "\n",
    "df.insert(0,'idx',idx)\n",
    "df.insert(1,'patient_id',patient_id)\n",
    "df = df.drop(['ID'], axis=1)\n",
    "\n",
    "df.head()\n",
    "print(df.idx.dtypes)\n",
    "print(df.dtypes)\n",
    "\n"
   ]
  },
  {
   "cell_type": "markdown",
   "metadata": {},
   "source": [
    "---"
   ]
  },
  {
   "cell_type": "markdown",
   "metadata": {},
   "source": [
    "### 2.2 Test your solution"
   ]
  },
  {
   "cell_type": "code",
   "execution_count": 78,
   "metadata": {},
   "outputs": [],
   "source": [
    "#do not modify this cell, run cell to test your code\n",
    "try:\n",
    "    df.dtypes\n",
    "except:\n",
    "    print(\"df not properly loaded\")"
   ]
  },
  {
   "cell_type": "markdown",
   "metadata": {},
   "source": [
    "#### expected outcome:\n"
   ]
  },
  {
   "cell_type": "raw",
   "metadata": {},
   "source": [
    "X1             int64\n",
    "X2             int64\n",
    "X3             int64\n",
    "X4             int64\n",
    "X5             int64\n",
    "               ...  \n",
    "X177           int64\n",
    "X178           int64\n",
    "y              int64\n",
    "idx            int64\n",
    "patient_id    object\n",
    "Length: 181, dtype: object"
   ]
  },
  {
   "cell_type": "markdown",
   "metadata": {},
   "source": [
    "---"
   ]
  },
  {
   "cell_type": "markdown",
   "metadata": {},
   "source": [
    "<a name='2'></a>\n",
    "## Part 3: Inspect the data\n",
    "\n",
    "Now that we prepared the data we are going to inspect the data to get more familiar with the data. You are required to do the following\n",
    "\n",
    "- inspect how many patients are in the dataset (should be 500 different)\n",
    "- inspect if patient V1.924 has 23 records\n",
    "- check if a patient has more than 1 Y value\n",
    "- check for how many patients are there per level\n",
    "- check if there are missing values\n",
    "\n",
    "The code for the inspection of the chunk numbers is given.\n",
    "\n",
    "\n",
    "<details>    \n",
    "<summary>\n",
    "    <font size=\"3\" color=\"darkgreen\"><b>Hints</b></font>\n",
    "</summary>\n",
    "<ul><li>pandas.DataFrame.groupby()</li>\n",
    "    <li>(df[df['columnname'] == value])</li>\n",
    "    <li>if you sum the expression ['y'].min() == ['y'].max() when grouped by patient it should return 500</li>\n",
    "</ul>\n",
    "</details>\n"
   ]
  },
  {
   "cell_type": "markdown",
   "metadata": {},
   "source": [
    "<a name='ex-31'></a>\n",
    "### 3.1 Code your solution"
   ]
  },
  {
   "cell_type": "code",
   "execution_count": 79,
   "metadata": {},
   "outputs": [
    {
     "data": {
      "text/plain": [
       "23"
      ]
     },
     "execution_count": 79,
     "metadata": {},
     "output_type": "execute_result"
    }
   ],
   "source": [
    "# should have 23 chunck numbers\n",
    "len(pd.DataFrame(df.groupby('idx')))\n"
   ]
  },
  {
   "cell_type": "code",
   "execution_count": 80,
   "metadata": {},
   "outputs": [
    {
     "name": "stdout",
     "output_type": "stream",
     "text": [
      "23\n",
      "True    500\n",
      "Name: y, dtype: int64\n",
      "y\n",
      "1    100\n",
      "2    100\n",
      "3    100\n",
      "4    100\n",
      "5    100\n",
      "dtype: int64\n",
      "Empty DataFrame\n",
      "Columns: [idx, patient_id, X1, X2, X3, X4, X5, X6, X7, X8, X9, X10, X11, X12, X13, X14, X15, X16, X17, X18, X19, X20, X21, X22, X23, X24, X25, X26, X27, X28, X29, X30, X31, X32, X33, X34, X35, X36, X37, X38, X39, X40, X41, X42, X43, X44, X45, X46, X47, X48, X49, X50, X51, X52, X53, X54, X55, X56, X57, X58, X59, X60, X61, X62, X63, X64, X65, X66, X67, X68, X69, X70, X71, X72, X73, X74, X75, X76, X77, X78, X79, X80, X81, X82, X83, X84, X85, X86, X87, X88, X89, X90, X91, X92, X93, X94, X95, X96, X97, X98, ...]\n",
      "Index: []\n",
      "\n",
      "[0 rows x 181 columns]\n",
      "Empty DataFrame\n",
      "Columns: [idx, patient_id, X1, X2, X3, X4, X5, X6, X7, X8, X9, X10, X11, X12, X13, X14, X15, X16, X17, X18, X19, X20, X21, X22, X23, X24, X25, X26, X27, X28, X29, X30, X31, X32, X33, X34, X35, X36, X37, X38, X39, X40, X41, X42, X43, X44, X45, X46, X47, X48, X49, X50, X51, X52, X53, X54, X55, X56, X57, X58, X59, X60, X61, X62, X63, X64, X65, X66, X67, X68, X69, X70, X71, X72, X73, X74, X75, X76, X77, X78, X79, X80, X81, X82, X83, X84, X85, X86, X87, X88, X89, X90, X91, X92, X93, X94, X95, X96, X97, X98, ...]\n",
      "Index: []\n",
      "\n",
      "[0 rows x 181 columns]\n"
     ]
    }
   ],
   "source": [
    "#YOUR CODE HERE\n",
    "\n",
    "#- inspect if patient V1.924 has 23 records\n",
    "print(len(df[df['patient_id']=='V1.924']))\n",
    "\n",
    "#- check if a patient has more than 1 Y value\n",
    "min_max_y = df.groupby('patient_id').y.min() == df.groupby('patient_id').y.max()\n",
    "print(min_max_y.value_counts())\n",
    "\n",
    "#- check for how many patients are there per level (Y)\n",
    "df_subset = df.filter(items=['patient_id','y'])\n",
    "print(df_subset.drop_duplicates().value_counts('y'))\n",
    "\n",
    "#- check if there are missing values\n",
    "# To detect missing values\n",
    "df1 = df[df.isna().any(axis=1)]\n",
    "print(df1)\n",
    "\n",
    "# To detect missing values\n",
    "df2 = df[df.isnull().any(axis=1)]\n",
    "print(df2)\n",
    "\n"
   ]
  },
  {
   "cell_type": "markdown",
   "metadata": {},
   "source": [
    "---"
   ]
  },
  {
   "cell_type": "markdown",
   "metadata": {},
   "source": [
    "<a name='3'></a>\n",
    "## Part 4: Reshape the data\n",
    "\n",
    "We would like to plot the patient data. Therefore we would need to reshape the data. For plotting purpose the data of the 23 chunks need to be ordered by patient and chunk number first. And then we need to get the X1..X178 data (a matrix with shape 23, 178) to be reshaped to one array of 178 * 23 = 4094 datapoints. (shape 1, 4094). The 4094 datapoint array is the EEG signal data of a particular patient to be plotted on the y-axis. On the x-axis we simply can create a sequence from 1 to 4094. \n",
    "\n",
    "\n",
    "Instructions:\n",
    "\n",
    "- set the index to `patient_id` and `idx`\n",
    "- sort the index\n",
    "- create a timesequence from 1 to 4094\n",
    "- finish the code to select a patient\n",
    "- finish the code to get the data of a patient and reshape it into an one dimensional array\n",
    "\n",
    "\n",
    "<details>    \n",
    "<summary>\n",
    "    <font size=\"3\" color=\"darkgreen\"><b>Hints</b></font>\n",
    "</summary>\n",
    "<ul><li>df.set_index</li>\n",
    "    <li>df.sort_index</li>\n",
    "    <li>use np.arange to create the sequence and use tolist to transfer it to a list</li>\n",
    "    <li>check pandas.DataFrame.iloc and slicing options for selecting a subset of the data</li>\n",
    "    <li>with numpy.reshape you can reshape a matrix</li>\n",
    "</ul>\n",
    "</details>\n",
    "\n",
    "<a name='ex-41'></a>\n",
    "### 4.1 Code your solution"
   ]
  },
  {
   "cell_type": "code",
   "execution_count": 81,
   "metadata": {},
   "outputs": [],
   "source": [
    "#YOUR CODE HERE\n",
    "\n",
    "\n",
    "df.set_index(['patient_id', 'idx'], inplace=True, drop=True)\n",
    "# sort the index\n",
    "df = df.sort_values(['patient_id', 'idx'])\n",
    "df.head()\n",
    "\n",
    "timeseq = np.arange(1,4095).tolist() #change this, should return a list with values 1..4094\n",
    "\n",
    " "
   ]
  },
  {
   "cell_type": "markdown",
   "metadata": {},
   "source": [
    "---"
   ]
  },
  {
   "cell_type": "markdown",
   "metadata": {},
   "source": [
    "### 4.2 Test your solution"
   ]
  },
  {
   "cell_type": "code",
   "execution_count": 82,
   "metadata": {},
   "outputs": [
    {
     "name": "stdout",
     "output_type": "stream",
     "text": [
      "                X1  X2  X3  X4  X5  X6  X7  X8  X9  X10  ...  X170  X171  \\\n",
      "patient_id idx                                           ...               \n",
      "V1         1    12  22  35  45  69  74  79  78  66   43  ...   -18   -32   \n",
      "           2   -41 -50 -53 -49 -35 -28 -15  -2  14   18  ...    34    22   \n",
      "\n",
      "                X172  X173  X174  X175  X176  X177  X178  y  \n",
      "patient_id idx                                               \n",
      "V1         1     -47   -53   -48   -40   -17   -23   -32  5  \n",
      "           2       4   -18   -31   -27   -26   -21   -30  5  \n",
      "\n",
      "[2 rows x 179 columns]\n",
      "the length of timeseq [1..4094] is 4094\n"
     ]
    }
   ],
   "source": [
    "#check outcome df and timeseq, do not modify this cell, run to test\n",
    "print(df.head(2))\n",
    "print(f'the length of timeseq [{np.array(timeseq).min()}..{np.array(timeseq).max()}] is {len(timeseq)}')"
   ]
  },
  {
   "cell_type": "markdown",
   "metadata": {},
   "source": [
    "#### expected outcome:\n"
   ]
  },
  {
   "cell_type": "raw",
   "metadata": {},
   "source": [
    "\n",
    "                    X1  X2  X3  X4  X5  X6  X7  X8  X9  X10  ...  X170  X171  \\\n",
    "patient_id idx                                           ...               \n",
    "V1         1    12  22  35  45  69  74  79  78  66   43  ...   -18   -32   \n",
    "           2   -41 -50 -53 -49 -35 -28 -15  -2  14   18  ...    34    22   \n",
    "\n",
    "                X172  X173  X174  X175  X176  X177  X178  y  \n",
    "patient_id idx                                               \n",
    "V1         1     -47   -53   -48   -40   -17   -23   -32  5  \n",
    "           2       4   -18   -31   -27   -26   -21   -30  5  \n",
    "\n",
    "[2 rows x 179 columns]\n",
    "the length of timeseq [1..4094] is 4094"
   ]
  },
  {
   "cell_type": "markdown",
   "metadata": {},
   "source": [
    "---\n",
    "Now that we reorganized the patients we could use the new dataframe to select a patient, load the values in an numpy matrix and reshape that to a one dimensional array. To do such complete the code below"
   ]
  },
  {
   "cell_type": "markdown",
   "metadata": {},
   "source": [
    "<a name='ex-43'></a>\n",
    "### 4.3 Code your solution"
   ]
  },
  {
   "cell_type": "code",
   "execution_count": 83,
   "metadata": {},
   "outputs": [],
   "source": [
    "#get the data of one patient\n",
    "def get_patient(df, patient):\n",
    "    ##########################\n",
    "    # get the patient that matches the index idx\n",
    "    dfpat = df.loc[patient]\n",
    "    #########################\n",
    "    return dfpat.sort_index()\n",
    "\n",
    "\n",
    "#fetch the values part and put in numpy array\n",
    "def get_values(df):\n",
    "    ###############################\n",
    "    # Delete 'y' column:\n",
    "    X = np.array(df.iloc[:,:-1]) # change this line to load value columns and the rows of the patient\n",
    "    ###############################\n",
    "    n = int(len(df) / 23)\n",
    "    X = X.reshape(n, 4094)\n",
    "    return X\n",
    "\n"
   ]
  },
  {
   "cell_type": "markdown",
   "metadata": {},
   "source": [
    "---\n",
    "### 4.4 Test your solution"
   ]
  },
  {
   "cell_type": "code",
   "execution_count": 84,
   "metadata": {},
   "outputs": [
    {
     "name": "stdout",
     "output_type": "stream",
     "text": [
      "the length of patient V1.334 array [ -18  -55 -126 ... -210 -222 -224] = 4094\n"
     ]
    }
   ],
   "source": [
    "#check outcome of array, do not modify this cell, run to test\n",
    "test_patient = get_values(get_patient(df,'V1.334'))[0]\n",
    "print(f'the length of patient V1.334 array {test_patient} = {len(test_patient)}')"
   ]
  },
  {
   "cell_type": "markdown",
   "metadata": {},
   "source": [
    "### expected outcome"
   ]
  },
  {
   "cell_type": "raw",
   "metadata": {},
   "source": [
    "the length of patient V1.334 array [ -18  -55 -126 ... -210 -222 -224] = 4094"
   ]
  },
  {
   "cell_type": "markdown",
   "metadata": {},
   "source": [
    "---"
   ]
  },
  {
   "cell_type": "markdown",
   "metadata": {},
   "source": [
    "<a name='4'></a>\n",
    "## Part 5: Plot the data\n",
    "\n",
    "In this part we will first select some patients per class level in the function `get_data(level)`. Then we are going to plot two plots per level using bokeh. Your job is to finish the code of the bokeh plot. For each patient eeg signal should be plotted on the y-axis given the timesequence on the x-axis"
   ]
  },
  {
   "cell_type": "code",
   "execution_count": 85,
   "metadata": {},
   "outputs": [],
   "source": [
    "#code to select some patients per level, do not modify this cell, run this cell\n",
    "#it is allowed though to add some print statements in order to understand what is happening\n",
    "def get_data(level):\n",
    "    df_level = df[df['y']==level]\n",
    "    #print(df_level)\n",
    "    s = df_level.index.unique().tolist()\n",
    "    #print(s)\n",
    "    patients = np.array(sorted(set([x[0] for x in s]))).tolist()\n",
    "    #print(patients)\n",
    "    return list(patients)[3:5]\n",
    "\n",
    "p1 = get_data(1)\n",
    "p2 = get_data(2)\n",
    "p3 = get_data(3)\n",
    "p4 = get_data(4)\n",
    "p5 = get_data(5)"
   ]
  },
  {
   "cell_type": "markdown",
   "metadata": {},
   "source": [
    "<a name='ex-51'></a>\n",
    "### 5.1 Code your solution"
   ]
  },
  {
   "cell_type": "code",
   "execution_count": 86,
   "metadata": {},
   "outputs": [],
   "source": [
    "from bokeh.plotting import figure, show\n",
    "from bokeh.layouts import gridplot\n",
    "from bokeh.models import Range1d\n",
    "\n",
    "def make_plot(title, y, pat_values,timeseq, color):\n",
    "    p = figure(title=title, background_fill_color=\"#fafafa\")\n",
    "    p.y_range=Range1d(-1500, 1500)\n",
    "    \n",
    "    ###########################################\n",
    "    p.line(timeseq, pat_values,color=\"black\") # CHANGE THIS LINE\n",
    "    ###########################################\n",
    "\n",
    "    p.xaxis.axis_label = 'time'\n",
    "    p.yaxis.axis_label = 'signal'\n",
    "    p.grid.grid_line_color=\"white\"\n",
    "    return p\n",
    "\n",
    "\n",
    "def make_plot_array(g, pa, y):\n",
    "    d = {1:'seizure', 2:'tumor location', 3:'non-tumor location', 4:'eyes closed', 5:'eyes open'}\n",
    "    for i in pa:\n",
    "        v = get_values(get_patient(df,i))[0]\n",
    "        p = make_plot(title = f'brain EEG for patient {i} {d[y]}', y=y, pat_values=v, timeseq=timeseq, color='black')\n",
    "        g.append(p)\n",
    "    return g\n",
    "\n",
    "g = []\n",
    "g = make_plot_array(g, p1, 1)\n",
    "g = make_plot_array(g, p2, 2)\n",
    "g = make_plot_array(g, p3, 3)\n",
    "g = make_plot_array(g, p4, 4)\n",
    "g = make_plot_array(g, p5, 5)\n",
    "\n",
    "    \n",
    "show(gridplot(g, ncols=2, width=450, height=300))\n",
    "\n",
    "#Note: bokeh is not displaying the graph. I think is do to visual studio code"
   ]
  },
  {
   "cell_type": "markdown",
   "metadata": {},
   "source": [
    "---"
   ]
  },
  {
   "cell_type": "markdown",
   "metadata": {},
   "source": [
    "<a name='5'></a>\n",
    "## Part 6: Statistical analysis (bonus points)"
   ]
  },
  {
   "cell_type": "markdown",
   "metadata": {},
   "source": [
    "From the graphical analysis is seems that there is significant difference between level 1 and the other levels. We can use `pandas.DataFrame.melt` to prepare the data for statistical analysis. Your job is to give statistical evidence of a significant difference see also [gitbook example](https://fennaf.gitbook.io/bfvm19prog1/data-wrangling/reshape-with-melt)"
   ]
  },
  {
   "cell_type": "markdown",
   "metadata": {},
   "source": [
    "<a name='ex-61'></a>\n",
    "### 6.1 Code your solution"
   ]
  },
  {
   "cell_type": "code",
   "execution_count": 87,
   "metadata": {},
   "outputs": [
    {
     "data": {
      "image/png": "[encoded data removed]",
      "text/plain": [
       "<Figure size 640x480 with 1 Axes>"
      ]
     },
     "metadata": {},
     "output_type": "display_data"
    },
    {
     "name": "stdout",
     "output_type": "stream",
     "text": [
      "Tukey's HSD Pairwise Group Comparisons (95.0% Confidence Interval)\n",
      "Comparison  Statistic  p-value  Lower CI  Upper CI\n",
      " (0 - 1)     37.584     0.000    23.135    52.033\n",
      " (0 - 2)    -36.874     0.000   -51.323   -22.425\n",
      " (0 - 3)     -5.659     0.875   -20.108     8.790\n",
      " (0 - 4)    -40.706     0.000   -55.155   -26.258\n",
      " (0 - 5)     38.973     0.000    24.524    53.421\n",
      " (1 - 0)    -37.584     0.000   -52.033   -23.135\n",
      " (1 - 2)    -74.457     0.000   -88.906   -60.009\n",
      " (1 - 3)    -43.243     0.000   -57.692   -28.794\n",
      " (1 - 4)    -78.290     0.000   -92.739   -63.841\n",
      " (1 - 5)      1.389     1.000   -13.060    15.838\n",
      " (2 - 0)     36.874     0.000    22.425    51.323\n",
      " (2 - 1)     74.457     0.000    60.009    88.906\n",
      " (2 - 3)     31.215     0.000    16.766    45.664\n",
      " (2 - 4)     -3.833     0.975   -18.282    10.616\n",
      " (2 - 5)     75.846     0.000    61.398    90.295\n",
      " (3 - 0)      5.659     0.875    -8.790    20.108\n",
      " (3 - 1)     43.243     0.000    28.794    57.692\n",
      " (3 - 2)    -31.215     0.000   -45.664   -16.766\n",
      " (3 - 4)    -35.047     0.000   -49.496   -20.599\n",
      " (3 - 5)     44.632     0.000    30.183    59.080\n",
      " (4 - 0)     40.706     0.000    26.258    55.155\n",
      " (4 - 1)     78.290     0.000    63.841    92.739\n",
      " (4 - 2)      3.833     0.975   -10.616    18.282\n",
      " (4 - 3)     35.047     0.000    20.599    49.496\n",
      " (4 - 5)     79.679     0.000    65.230    94.128\n",
      " (5 - 0)    -38.973     0.000   -53.421   -24.524\n",
      " (5 - 1)     -1.389     1.000   -15.838    13.060\n",
      " (5 - 2)    -75.846     0.000   -90.295   -61.398\n",
      " (5 - 3)    -44.632     0.000   -59.080   -30.183\n",
      " (5 - 4)    -79.679     0.000   -94.128   -65.230\n",
      "\n"
     ]
    }
   ],
   "source": [
    "#YOUR CODE HERE\n",
    "\n",
    "def get_data_per_level(patients, array):\n",
    "    for i in patients:\n",
    "        values = get_values(get_patient(df,i))[0]\n",
    "        array = np.append(array, values, axis=0)\n",
    "    return array\n",
    "\n",
    "array = np.array([])\n",
    "level1_data = get_data_per_level(p1, array)\n",
    "level1_data.shape = (2, 4094)\n",
    "\n",
    "level2_data = get_data_per_level(p2, array)\n",
    "level2_data.shape = (2, 4094)\n",
    "\n",
    "level3_data = get_data_per_level(p3, array)\n",
    "level3_data.shape = (2, 4094)\n",
    "\n",
    "level4_data = get_data_per_level(p4, array)\n",
    "level4_data.shape = (2, 4094)\n",
    "\n",
    "level5_data = get_data_per_level(p5, array)\n",
    "level5_data.shape = (2, 4094)\n",
    "\n",
    "import matplotlib.pyplot as plt\n",
    "fig, ax = plt.subplots(1, 1)\n",
    "ax.boxplot([level1_data[0], level1_data[1],\n",
    "            level2_data[0], level2_data[1],\n",
    "            level3_data[0], level3_data[1]])\n",
    "ax.set_xticklabels([\"level1\", \"level1\", \"level2\", \"level2\", \"level3\", \"level3\"]) \n",
    "ax.set_ylabel(\"mean\") \n",
    "plt.show()\n",
    "\n",
    "from scipy.stats import tukey_hsd \n",
    "x = tukey_hsd(level1_data[0], level1_data[1],\n",
    "            level2_data[0], level2_data[1],\n",
    "            level3_data[0], level3_data[1])\n",
    "\n",
    "print(x)\n",
    "#no: same means \n",
    "\n"
   ]
  }
 ],
 "metadata": {
  "kernelspec": {
   "display_name": "Python 3.10.4 64-bit",
   "language": "python",
   "name": "python3"
  },
  "language_info": {
   "codemirror_mode": {
    "name": "ipython",
    "version": 3
   },
   "file_extension": ".py",
   "mimetype": "text/x-python",
   "name": "python",
   "nbconvert_exporter": "python",
   "pygments_lexer": "ipython3",
   "version": "3.10.4"
  },
  "vscode": {
   "interpreter": {
    "hash": "6b91fa5cffef32cb10787a50fea9666676a7951181e01280b4644cd70c964bf4"
   }
  }
 },
 "nbformat": 4,
 "nbformat_minor": 4
}
